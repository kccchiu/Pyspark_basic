{
 "cells": [
  {
   "cell_type": "code",
   "execution_count": 1,
   "id": "5dded9e8",
   "metadata": {},
   "outputs": [],
   "source": [
    "from pyspark.sql import SparkSession"
   ]
  },
  {
   "cell_type": "code",
   "execution_count": 4,
   "id": "86a7cff1",
   "metadata": {},
   "outputs": [
    {
     "data": {
      "text/html": [
       "\n",
       "            <div>\n",
       "                <p><b>SparkSession - in-memory</b></p>\n",
       "                \n",
       "        <div>\n",
       "            <p><b>SparkContext</b></p>\n",
       "\n",
       "            <p><a href=\"http://host.docker.internal:4040\">Spark UI</a></p>\n",
       "\n",
       "            <dl>\n",
       "              <dt>Version</dt>\n",
       "                <dd><code>v3.1.2</code></dd>\n",
       "              <dt>Master</dt>\n",
       "                <dd><code>local[*]</code></dd>\n",
       "              <dt>AppName</dt>\n",
       "                <dd><code>dataframe</code></dd>\n",
       "            </dl>\n",
       "        </div>\n",
       "        \n",
       "            </div>\n",
       "        "
      ],
      "text/plain": [
       "<pyspark.sql.session.SparkSession at 0x21e5e71c248>"
      ]
     },
     "execution_count": 4,
     "metadata": {},
     "output_type": "execute_result"
    }
   ],
   "source": [
    "spark = SparkSession.builder.appName('dataframe').getOrCreate()\n",
    "spark"
   ]
  },
  {
   "cell_type": "code",
   "execution_count": 5,
   "id": "3a8a8f47",
   "metadata": {},
   "outputs": [
    {
     "name": "stdout",
     "output_type": "stream",
     "text": [
      "+---------+------------+-------+\n",
      "|     Name| Departments| salary|\n",
      "+---------+------------+-------+\n",
      "|      Kin|Data Science| 100000|\n",
      "|      Kin|     Trading|1000000|\n",
      "|     Sawa|   Reporting| 120000|\n",
      "|     Toru|        Maid|    100|\n",
      "|    Kanna|     Student|     20|\n",
      "|    Lucoo|    Gardient|   2000|\n",
      "|   Fafuya|       Guard|9000000|\n",
      "|   Shouta|    Magician|  20000|\n",
      "|   Shouta|     Student| 200000|\n",
      "|Kobayashi|         Dev| 200000|\n",
      "|   Takiya|         Dev| 200000|\n",
      "|Kobayashi|Data Science| 100000|\n",
      "+---------+------------+-------+\n",
      "\n"
     ]
    }
   ],
   "source": [
    "df_pyspark = spark.read.csv('people3.csv', header = True, inferSchema=True)\n",
    "df_pyspark.show()"
   ]
  },
  {
   "cell_type": "code",
   "execution_count": 6,
   "id": "baf45156",
   "metadata": {},
   "outputs": [
    {
     "name": "stdout",
     "output_type": "stream",
     "text": [
      "root\n",
      " |-- Name: string (nullable = true)\n",
      " |-- Departments: string (nullable = true)\n",
      " |-- salary: integer (nullable = true)\n",
      "\n"
     ]
    }
   ],
   "source": [
    "df_pyspark.printSchema()"
   ]
  },
  {
   "cell_type": "code",
   "execution_count": 11,
   "id": "c5109973",
   "metadata": {},
   "outputs": [
    {
     "name": "stdout",
     "output_type": "stream",
     "text": [
      "+---------+-----------+\n",
      "|     Name|sum(salary)|\n",
      "+---------+-----------+\n",
      "|      Kin|    1100000|\n",
      "|     Sawa|     120000|\n",
      "|    Kanna|         20|\n",
      "|   Takiya|     200000|\n",
      "|   Shouta|     220000|\n",
      "|Kobayashi|     300000|\n",
      "|     Toru|        100|\n",
      "|   Fafuya|    9000000|\n",
      "|    Lucoo|       2000|\n",
      "+---------+-----------+\n",
      "\n"
     ]
    }
   ],
   "source": [
    "## Groupby sum up salary by name\n",
    "### Grouped to find the max salary\n",
    "df_pyspark.groupBy('Name').sum().show()"
   ]
  },
  {
   "cell_type": "code",
   "execution_count": 14,
   "id": "40c68867",
   "metadata": {},
   "outputs": [
    {
     "name": "stdout",
     "output_type": "stream",
     "text": [
      "+------------+-----------+\n",
      "| Departments|sum(salary)|\n",
      "+------------+-----------+\n",
      "|     Student|     200020|\n",
      "|    Magician|      20000|\n",
      "|     Trading|    1000000|\n",
      "|   Reporting|     120000|\n",
      "|        Maid|        100|\n",
      "|         Dev|     400000|\n",
      "|       Guard|    9000000|\n",
      "|Data Science|     200000|\n",
      "|    Gardient|       2000|\n",
      "+------------+-----------+\n",
      "\n",
      "+------------+-----------+\n",
      "| Departments|avg(salary)|\n",
      "+------------+-----------+\n",
      "|     Student|   100010.0|\n",
      "|    Magician|    20000.0|\n",
      "|     Trading|  1000000.0|\n",
      "|   Reporting|   120000.0|\n",
      "|        Maid|      100.0|\n",
      "|         Dev|   200000.0|\n",
      "|       Guard|  9000000.0|\n",
      "|Data Science|   100000.0|\n",
      "|    Gardient|     2000.0|\n",
      "+------------+-----------+\n",
      "\n"
     ]
    }
   ],
   "source": [
    "### Groupby Departments which maximum salary\n",
    "df_pyspark.groupBy('Departments').sum().show()\n",
    "#show mean salary\n",
    "df_pyspark.groupBy('Departments').mean().show()"
   ]
  },
  {
   "cell_type": "code",
   "execution_count": 15,
   "id": "b85d7cde",
   "metadata": {},
   "outputs": [
    {
     "name": "stdout",
     "output_type": "stream",
     "text": [
      "+------------+-----+\n",
      "| Departments|count|\n",
      "+------------+-----+\n",
      "|     Student|    2|\n",
      "|    Magician|    1|\n",
      "|     Trading|    1|\n",
      "|   Reporting|    1|\n",
      "|        Maid|    1|\n",
      "|         Dev|    2|\n",
      "|       Guard|    1|\n",
      "|Data Science|    2|\n",
      "|    Gardient|    1|\n",
      "+------------+-----+\n",
      "\n"
     ]
    }
   ],
   "source": [
    "#See how many employee in the department\n",
    "df_pyspark.groupBy('Departments').count().show()"
   ]
  },
  {
   "cell_type": "code",
   "execution_count": 18,
   "id": "75036dbe",
   "metadata": {},
   "outputs": [
    {
     "name": "stdout",
     "output_type": "stream",
     "text": [
      "+-----------+\n",
      "|sum(salary)|\n",
      "+-----------+\n",
      "|   10942120|\n",
      "+-----------+\n",
      "\n"
     ]
    }
   ],
   "source": [
    "#Total of the column with col name\n",
    "df_pyspark.agg({'salary':'sum'}).show()"
   ]
  },
  {
   "cell_type": "code",
   "execution_count": 21,
   "id": "ac772ffc",
   "metadata": {},
   "outputs": [
    {
     "name": "stdout",
     "output_type": "stream",
     "text": [
      "+---------+-----------+\n",
      "|     Name|max(salary)|\n",
      "+---------+-----------+\n",
      "|      Kin|    1000000|\n",
      "|     Sawa|     120000|\n",
      "|    Kanna|         20|\n",
      "|   Takiya|     200000|\n",
      "|   Shouta|     200000|\n",
      "|Kobayashi|     200000|\n",
      "|     Toru|        100|\n",
      "|   Fafuya|    9000000|\n",
      "|    Lucoo|       2000|\n",
      "+---------+-----------+\n",
      "\n",
      "+---------+-----------+\n",
      "|     Name|min(salary)|\n",
      "+---------+-----------+\n",
      "|      Kin|     100000|\n",
      "|     Sawa|     120000|\n",
      "|    Kanna|         20|\n",
      "|   Takiya|     200000|\n",
      "|   Shouta|      20000|\n",
      "|Kobayashi|     100000|\n",
      "|     Toru|        100|\n",
      "|   Fafuya|    9000000|\n",
      "|    Lucoo|       2000|\n",
      "+---------+-----------+\n",
      "\n",
      "+---------+-----------+\n",
      "|     Name|avg(salary)|\n",
      "+---------+-----------+\n",
      "|      Kin|   550000.0|\n",
      "|     Sawa|   120000.0|\n",
      "|    Kanna|       20.0|\n",
      "|   Takiya|   200000.0|\n",
      "|   Shouta|   110000.0|\n",
      "|Kobayashi|   150000.0|\n",
      "|     Toru|      100.0|\n",
      "|   Fafuya|  9000000.0|\n",
      "|    Lucoo|     2000.0|\n",
      "+---------+-----------+\n",
      "\n"
     ]
    }
   ],
   "source": [
    "df_pyspark.groupBy('Name').max().show()\n",
    "df_pyspark.groupBy('Name').min().show()\n",
    "df_pyspark.groupBy('Name').avg().show()"
   ]
  },
  {
   "cell_type": "code",
   "execution_count": null,
   "id": "0cae2c85",
   "metadata": {},
   "outputs": [],
   "source": []
  },
  {
   "cell_type": "code",
   "execution_count": null,
   "id": "c015d9ba",
   "metadata": {},
   "outputs": [],
   "source": []
  },
  {
   "cell_type": "code",
   "execution_count": null,
   "id": "ac4d5ef7",
   "metadata": {},
   "outputs": [],
   "source": []
  },
  {
   "cell_type": "code",
   "execution_count": null,
   "id": "8654f501",
   "metadata": {},
   "outputs": [],
   "source": []
  },
  {
   "cell_type": "code",
   "execution_count": null,
   "id": "15820fc4",
   "metadata": {},
   "outputs": [],
   "source": []
  }
 ],
 "metadata": {
  "kernelspec": {
   "display_name": "Python 3",
   "language": "python",
   "name": "python3"
  },
  "language_info": {
   "codemirror_mode": {
    "name": "ipython",
    "version": 3
   },
   "file_extension": ".py",
   "mimetype": "text/x-python",
   "name": "python",
   "nbconvert_exporter": "python",
   "pygments_lexer": "ipython3",
   "version": "3.7.7"
  }
 },
 "nbformat": 4,
 "nbformat_minor": 5
}
