{
 "cells": [
  {
   "cell_type": "markdown",
   "id": "2074a201",
   "metadata": {},
   "source": [
    "Dropping columns\n",
    "\n",
    "Droping rows\n",
    "\n",
    "various paramter in dropping functions\n",
    "\n",
    "handling mssing value by mean, median, and mode"
   ]
  },
  {
   "cell_type": "code",
   "execution_count": 1,
   "id": "b92e4685",
   "metadata": {},
   "outputs": [],
   "source": [
    "import pyspark"
   ]
  },
  {
   "cell_type": "code",
   "execution_count": 2,
   "id": "fd69c521",
   "metadata": {},
   "outputs": [],
   "source": [
    "import pandas as pd"
   ]
  },
  {
   "cell_type": "code",
   "execution_count": 4,
   "id": "4b4ee7d3",
   "metadata": {},
   "outputs": [],
   "source": [
    "from pyspark.sql import SparkSession\n",
    "spark = SparkSession.builder.appName('Practice').getOrCreate()"
   ]
  },
  {
   "cell_type": "code",
   "execution_count": 7,
   "id": "3494b992",
   "metadata": {},
   "outputs": [],
   "source": [
    "df_pyspark = spark.read.csv('people2.csv', header = True, inferSchema= True)"
   ]
  },
  {
   "cell_type": "code",
   "execution_count": 8,
   "id": "fc3c87ea",
   "metadata": {},
   "outputs": [
    {
     "name": "stdout",
     "output_type": "stream",
     "text": [
      "+--------+----+----------+------+\n",
      "|    Name| Age|Experience|Salary|\n",
      "+--------+----+----------+------+\n",
      "|    Taka|  20|         7| 84000|\n",
      "|    Yuzu|  23|         5| 60000|\n",
      "|    Sawa|  19|         4| 48000|\n",
      "|  Hiyama|  25|         6| 72000|\n",
      "| Shinobu|  23|         4| 48000|\n",
      "|    Yuta|  19|         2| 24000|\n",
      "|Kawasaki|  30|        11|132000|\n",
      "|   Murai|null|      null| 50000|\n",
      "|    null|  23|         1| 12000|\n",
      "|    null|  28|      null|  null|\n",
      "+--------+----+----------+------+\n",
      "\n"
     ]
    }
   ],
   "source": [
    "df_pyspark.show()"
   ]
  },
  {
   "cell_type": "code",
   "execution_count": 9,
   "id": "fac0bedc",
   "metadata": {},
   "outputs": [
    {
     "name": "stdout",
     "output_type": "stream",
     "text": [
      "+--------+----+----------+\n",
      "|    Name| Age|Experience|\n",
      "+--------+----+----------+\n",
      "|    Taka|  20|         7|\n",
      "|    Yuzu|  23|         5|\n",
      "|    Sawa|  19|         4|\n",
      "|  Hiyama|  25|         6|\n",
      "| Shinobu|  23|         4|\n",
      "|    Yuta|  19|         2|\n",
      "|Kawasaki|  30|        11|\n",
      "|   Murai|null|      null|\n",
      "|    null|  23|         1|\n",
      "|    null|  28|      null|\n",
      "+--------+----+----------+\n",
      "\n"
     ]
    }
   ],
   "source": [
    "##drop the column\n",
    "df_pyspark.drop('Salary').show()"
   ]
  },
  {
   "cell_type": "code",
   "execution_count": 10,
   "id": "f7d9d3ea",
   "metadata": {},
   "outputs": [
    {
     "name": "stdout",
     "output_type": "stream",
     "text": [
      "+--------+---+----------+------+\n",
      "|    Name|Age|Experience|Salary|\n",
      "+--------+---+----------+------+\n",
      "|    Taka| 20|         7| 84000|\n",
      "|    Yuzu| 23|         5| 60000|\n",
      "|    Sawa| 19|         4| 48000|\n",
      "|  Hiyama| 25|         6| 72000|\n",
      "| Shinobu| 23|         4| 48000|\n",
      "|    Yuta| 19|         2| 24000|\n",
      "|Kawasaki| 30|        11|132000|\n",
      "+--------+---+----------+------+\n",
      "\n"
     ]
    }
   ],
   "source": [
    "#drop na\n",
    "df_pyspark.na.drop().show()"
   ]
  },
  {
   "cell_type": "code",
   "execution_count": 12,
   "id": "fc93dd73",
   "metadata": {},
   "outputs": [
    {
     "name": "stdout",
     "output_type": "stream",
     "text": [
      "+--------+----+----------+------+\n",
      "|    Name| Age|Experience|Salary|\n",
      "+--------+----+----------+------+\n",
      "|    Taka|  20|         7| 84000|\n",
      "|    Yuzu|  23|         5| 60000|\n",
      "|    Sawa|  19|         4| 48000|\n",
      "|  Hiyama|  25|         6| 72000|\n",
      "| Shinobu|  23|         4| 48000|\n",
      "|    Yuta|  19|         2| 24000|\n",
      "|Kawasaki|  30|        11|132000|\n",
      "|   Murai|null|      null| 50000|\n",
      "|    null|  23|         1| 12000|\n",
      "|    null|  28|      null|  null|\n",
      "+--------+----+----------+------+\n",
      "\n"
     ]
    }
   ],
   "source": [
    "# any == how\n",
    "df_pyspark.na.drop(how='all').show()  #nothing droped because no whole roll is null"
   ]
  },
  {
   "cell_type": "code",
   "execution_count": 14,
   "id": "7c85cf93",
   "metadata": {},
   "outputs": [
    {
     "name": "stdout",
     "output_type": "stream",
     "text": [
      "+--------+---+----------+------+\n",
      "|    Name|Age|Experience|Salary|\n",
      "+--------+---+----------+------+\n",
      "|    Taka| 20|         7| 84000|\n",
      "|    Yuzu| 23|         5| 60000|\n",
      "|    Sawa| 19|         4| 48000|\n",
      "|  Hiyama| 25|         6| 72000|\n",
      "| Shinobu| 23|         4| 48000|\n",
      "|    Yuta| 19|         2| 24000|\n",
      "|Kawasaki| 30|        11|132000|\n",
      "|    null| 23|         1| 12000|\n",
      "+--------+---+----------+------+\n",
      "\n"
     ]
    }
   ],
   "source": [
    "#threshold\n",
    "#2 null gets dropped\n",
    "df_pyspark.na.drop(how='all', thresh = 3).show() "
   ]
  },
  {
   "cell_type": "code",
   "execution_count": 15,
   "id": "358ebd26",
   "metadata": {},
   "outputs": [
    {
     "name": "stdout",
     "output_type": "stream",
     "text": [
      "+--------+---+----------+------+\n",
      "|    Name|Age|Experience|Salary|\n",
      "+--------+---+----------+------+\n",
      "|    Taka| 20|         7| 84000|\n",
      "|    Yuzu| 23|         5| 60000|\n",
      "|    Sawa| 19|         4| 48000|\n",
      "|  Hiyama| 25|         6| 72000|\n",
      "| Shinobu| 23|         4| 48000|\n",
      "|    Yuta| 19|         2| 24000|\n",
      "|Kawasaki| 30|        11|132000|\n",
      "|    null| 23|         1| 12000|\n",
      "+--------+---+----------+------+\n",
      "\n"
     ]
    }
   ],
   "source": [
    "#subset for columns\n",
    "df_pyspark.na.drop(how='any', subset=['Experience']).show()"
   ]
  },
  {
   "cell_type": "code",
   "execution_count": 21,
   "id": "0f7d6f42",
   "metadata": {},
   "outputs": [
    {
     "name": "stdout",
     "output_type": "stream",
     "text": [
      "+--------+----+----------+------+\n",
      "|    Name| Age|Experience|Salary|\n",
      "+--------+----+----------+------+\n",
      "|    Taka|  20|         7| 84000|\n",
      "|    Yuzu|  23|         5| 60000|\n",
      "|    Sawa|  19|         4| 48000|\n",
      "|  Hiyama|  25|         6| 72000|\n",
      "| Shinobu|  23|         4| 48000|\n",
      "|    Yuta|  19|         2| 24000|\n",
      "|Kawasaki|  30|        11|132000|\n",
      "|   Murai|null|      null| 50000|\n",
      "|    null|  23|         1| 12000|\n",
      "|    null|  28|      null|  null|\n",
      "+--------+----+----------+------+\n",
      "\n"
     ]
    }
   ],
   "source": [
    "df_pyspark.show()"
   ]
  },
  {
   "cell_type": "code",
   "execution_count": 25,
   "id": "5df0bfc8",
   "metadata": {},
   "outputs": [
    {
     "name": "stdout",
     "output_type": "stream",
     "text": [
      "+--------+----+----------+------+\n",
      "|    Name| Age|Experience|Salary|\n",
      "+--------+----+----------+------+\n",
      "|    Taka|  20|         7| 84000|\n",
      "|    Yuzu|  23|         5| 60000|\n",
      "|    Sawa|  19|         4| 48000|\n",
      "|  Hiyama|  25|         6| 72000|\n",
      "| Shinobu|  23|         4| 48000|\n",
      "|    Yuta|  19|         2| 24000|\n",
      "|Kawasaki|  30|        11|132000|\n",
      "|   Murai|null|      null| 50000|\n",
      "|    null|  23|         1| 12000|\n",
      "|    null|  28|      null|  null|\n",
      "+--------+----+----------+------+\n",
      "\n"
     ]
    }
   ],
   "source": [
    "df_pyspark.show()"
   ]
  },
  {
   "cell_type": "code",
   "execution_count": 55,
   "id": "d6e50388",
   "metadata": {},
   "outputs": [
    {
     "name": "stdout",
     "output_type": "stream",
     "text": [
      "+--------+----+----------+------+\n",
      "|    Name| Age|Experience|Salary|\n",
      "+--------+----+----------+------+\n",
      "|    Taka|  20|         7| 84000|\n",
      "|    Yuzu|  23|         5| 60000|\n",
      "|    Sawa|  19|         4| 48000|\n",
      "|  Hiyama|  25|         6| 72000|\n",
      "| Shinobu|  23|         4| 48000|\n",
      "|    Yuta|  19|         2| 24000|\n",
      "|Kawasaki|  30|        11|132000|\n",
      "|   Murai|null|      null| 50000|\n",
      "|    null|  23|         1| 12000|\n",
      "|    null|  28|      null|  null|\n",
      "+--------+----+----------+------+\n",
      "\n"
     ]
    }
   ],
   "source": [
    "#Filling the missing Value\n",
    "df_pyspark.replace('null', 'Missing',subset = ['Age']).show()"
   ]
  },
  {
   "cell_type": "code",
   "execution_count": 59,
   "id": "722621fa",
   "metadata": {},
   "outputs": [
    {
     "name": "stdout",
     "output_type": "stream",
     "text": [
      "root\n",
      " |-- Name: string (nullable = true)\n",
      " |-- Age: integer (nullable = true)\n",
      " |-- Experience: integer (nullable = true)\n",
      " |-- Salary: integer (nullable = true)\n",
      "\n",
      "+--------+---+----------+------+\n",
      "|    Name|Age|Experience|Salary|\n",
      "+--------+---+----------+------+\n",
      "|    Taka| 20|         7| 84000|\n",
      "|    Yuzu| 23|         5| 60000|\n",
      "|    Sawa| 19|         4| 48000|\n",
      "|  Hiyama| 25|         6| 72000|\n",
      "| Shinobu| 23|         4| 48000|\n",
      "|    Yuta| 19|         2| 24000|\n",
      "|Kawasaki| 30|        11|132000|\n",
      "|   Murai|999|      null| 50000|\n",
      "|    null| 23|         1| 12000|\n",
      "|    null| 28|      null|  null|\n",
      "+--------+---+----------+------+\n",
      "\n"
     ]
    }
   ],
   "source": [
    "#fill na has to be matching types\n",
    "df_pyspark.printSchema()\n",
    "df_pyspark.na.fill({'Age':'999'}).show()"
   ]
  },
  {
   "cell_type": "code",
   "execution_count": null,
   "id": "b8e2e3eb",
   "metadata": {},
   "outputs": [],
   "source": []
  },
  {
   "cell_type": "code",
   "execution_count": null,
   "id": "3e269fd9",
   "metadata": {},
   "outputs": [],
   "source": []
  }
 ],
 "metadata": {
  "kernelspec": {
   "display_name": "Python 3",
   "language": "python",
   "name": "python3"
  },
  "language_info": {
   "codemirror_mode": {
    "name": "ipython",
    "version": 3
   },
   "file_extension": ".py",
   "mimetype": "text/x-python",
   "name": "python",
   "nbconvert_exporter": "python",
   "pygments_lexer": "ipython3",
   "version": "3.7.7"
  }
 },
 "nbformat": 4,
 "nbformat_minor": 5
}
