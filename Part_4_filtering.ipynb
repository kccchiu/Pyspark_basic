{
 "cells": [
  {
   "cell_type": "code",
   "execution_count": 3,
   "id": "5dded9e8",
   "metadata": {},
   "outputs": [],
   "source": [
    "from pyspark.sql import SparkSession"
   ]
  },
  {
   "cell_type": "code",
   "execution_count": 4,
   "id": "86a7cff1",
   "metadata": {},
   "outputs": [],
   "source": [
    "spark = SparkSession.builder.appName('dataframe').getOrCreate()"
   ]
  },
  {
   "cell_type": "code",
   "execution_count": 5,
   "id": "3a8a8f47",
   "metadata": {},
   "outputs": [
    {
     "name": "stdout",
     "output_type": "stream",
     "text": [
      "+--------+----+----------+------+\n",
      "|    Name| Age|Experience|Salary|\n",
      "+--------+----+----------+------+\n",
      "|    Taka|  20|         7| 84000|\n",
      "|    Yuzu|  23|         5| 60000|\n",
      "|    Sawa|  19|         4| 48000|\n",
      "|  Hiyama|  25|         6| 72000|\n",
      "| Shinobu|  23|         4| 48000|\n",
      "|    Yuta|  19|         2| 24000|\n",
      "|Kawasaki|  30|        11|132000|\n",
      "|   Murai|null|      null| 50000|\n",
      "|    null|  23|         1| 12000|\n",
      "|    null|  28|      null|  null|\n",
      "+--------+----+----------+------+\n",
      "\n"
     ]
    }
   ],
   "source": [
    "df_pyspark = spark.read.csv('people2.csv', header = True, inferSchema=True)\n",
    "df_pyspark.show()"
   ]
  },
  {
   "cell_type": "code",
   "execution_count": 6,
   "id": "4f3ada65",
   "metadata": {},
   "outputs": [
    {
     "name": "stdout",
     "output_type": "stream",
     "text": [
      "+--------+---+----------+------+\n",
      "|    Name|Age|Experience|Salary|\n",
      "+--------+---+----------+------+\n",
      "|    Taka| 20|         7| 84000|\n",
      "|    Yuzu| 23|         5| 60000|\n",
      "|    Sawa| 19|         4| 48000|\n",
      "|  Hiyama| 25|         6| 72000|\n",
      "| Shinobu| 23|         4| 48000|\n",
      "|    Yuta| 19|         2| 24000|\n",
      "|Kawasaki| 30|        11|132000|\n",
      "+--------+---+----------+------+\n",
      "\n"
     ]
    }
   ],
   "source": [
    "df_pyspark = df_pyspark.na.drop()\n",
    "df_pyspark.show()"
   ]
  },
  {
   "cell_type": "code",
   "execution_count": 7,
   "id": "df307420",
   "metadata": {},
   "outputs": [],
   "source": [
    "### Filter Operations"
   ]
  },
  {
   "cell_type": "code",
   "execution_count": 10,
   "id": "ae54a446",
   "metadata": {},
   "outputs": [
    {
     "name": "stdout",
     "output_type": "stream",
     "text": [
      "+----+---+\n",
      "|Name|Age|\n",
      "+----+---+\n",
      "|Sawa| 19|\n",
      "|Yuta| 19|\n",
      "+----+---+\n",
      "\n"
     ]
    }
   ],
   "source": [
    "#Poor young people\n",
    "df_pyspark.filter( \n",
    "                (df_pyspark['Salary'] <= 50000) & \n",
    "                (df_pyspark['Age'] <= 20)\n",
    "                ).select(['Name', 'Age']).show()"
   ]
  },
  {
   "cell_type": "code",
   "execution_count": 11,
   "id": "2d571ff7",
   "metadata": {},
   "outputs": [],
   "source": [
    "#inverse just like pandas"
   ]
  },
  {
   "cell_type": "code",
   "execution_count": 12,
   "id": "1d229c63",
   "metadata": {},
   "outputs": [
    {
     "name": "stdout",
     "output_type": "stream",
     "text": [
      "+--------+---+----------+------+\n",
      "|    Name|Age|Experience|Salary|\n",
      "+--------+---+----------+------+\n",
      "|    Taka| 20|         7| 84000|\n",
      "|    Yuzu| 23|         5| 60000|\n",
      "|  Hiyama| 25|         6| 72000|\n",
      "|Kawasaki| 30|        11|132000|\n",
      "+--------+---+----------+------+\n",
      "\n"
     ]
    }
   ],
   "source": [
    "#Rich workers\n",
    "df_pyspark.filter(~(df_pyspark['Salary'] <= 50000)).show()"
   ]
  },
  {
   "cell_type": "code",
   "execution_count": null,
   "id": "6ffad4ef",
   "metadata": {},
   "outputs": [],
   "source": []
  },
  {
   "cell_type": "code",
   "execution_count": null,
   "id": "5da2da73",
   "metadata": {},
   "outputs": [],
   "source": []
  },
  {
   "cell_type": "code",
   "execution_count": null,
   "id": "5f52ec3d",
   "metadata": {},
   "outputs": [],
   "source": []
  },
  {
   "cell_type": "code",
   "execution_count": null,
   "id": "a94bb64b",
   "metadata": {},
   "outputs": [],
   "source": []
  }
 ],
 "metadata": {
  "kernelspec": {
   "display_name": "Python 3",
   "language": "python",
   "name": "python3"
  },
  "language_info": {
   "codemirror_mode": {
    "name": "ipython",
    "version": 3
   },
   "file_extension": ".py",
   "mimetype": "text/x-python",
   "name": "python",
   "nbconvert_exporter": "python",
   "pygments_lexer": "ipython3",
   "version": "3.7.7"
  }
 },
 "nbformat": 4,
 "nbformat_minor": 5
}
