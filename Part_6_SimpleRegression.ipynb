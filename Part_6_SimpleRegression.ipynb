{
 "cells": [
  {
   "cell_type": "code",
   "execution_count": 1,
   "id": "5dded9e8",
   "metadata": {},
   "outputs": [],
   "source": [
    "from pyspark.sql import SparkSession"
   ]
  },
  {
   "cell_type": "code",
   "execution_count": 4,
   "id": "885e1e10-c222-48fe-98fd-33a870654e5e",
   "metadata": {},
   "outputs": [],
   "source": [
    "#Predict Salary from age and experience"
   ]
  },
  {
   "cell_type": "code",
   "execution_count": 5,
   "id": "86a7cff1",
   "metadata": {},
   "outputs": [
    {
     "data": {
      "text/html": [
       "\n",
       "            <div>\n",
       "                <p><b>SparkSession - in-memory</b></p>\n",
       "                \n",
       "        <div>\n",
       "            <p><b>SparkContext</b></p>\n",
       "\n",
       "            <p><a href=\"http://kinxps:4043\">Spark UI</a></p>\n",
       "\n",
       "            <dl>\n",
       "              <dt>Version</dt>\n",
       "                <dd><code>v3.1.2</code></dd>\n",
       "              <dt>Master</dt>\n",
       "                <dd><code>local[*]</code></dd>\n",
       "              <dt>AppName</dt>\n",
       "                <dd><code>dataframe</code></dd>\n",
       "            </dl>\n",
       "        </div>\n",
       "        \n",
       "            </div>\n",
       "        "
      ],
      "text/plain": [
       "<pyspark.sql.session.SparkSession at 0x15d58dac6c8>"
      ]
     },
     "execution_count": 5,
     "metadata": {},
     "output_type": "execute_result"
    }
   ],
   "source": [
    "spark = SparkSession.builder.appName('dataframe').getOrCreate()\n",
    "spark"
   ]
  },
  {
   "cell_type": "code",
   "execution_count": 6,
   "id": "3a8a8f47",
   "metadata": {},
   "outputs": [
    {
     "name": "stdout",
     "output_type": "stream",
     "text": [
      "+---------+---+----------+------+\n",
      "|     name|age|experience|salary|\n",
      "+---------+---+----------+------+\n",
      "|      Kin| 19|         6| 30000|\n",
      "|     Sawa| 17|         5| 23000|\n",
      "|     Toru| 22|         9| 40000|\n",
      "|    Souta| 13|         3| 13000|\n",
      "|    Kanna|  9|         2|  5000|\n",
      "|Kobayahsi| 34|        30|400000|\n",
      "+---------+---+----------+------+\n",
      "\n"
     ]
    }
   ],
   "source": [
    "df_pyspark = spark.read.csv('people4.csv', header = True, inferSchema=True)\n",
    "df_pyspark.show()"
   ]
  },
  {
   "cell_type": "code",
   "execution_count": 7,
   "id": "9a3469c9",
   "metadata": {},
   "outputs": [
    {
     "name": "stdout",
     "output_type": "stream",
     "text": [
      "root\n",
      " |-- name: string (nullable = true)\n",
      " |-- age: integer (nullable = true)\n",
      " |-- experience: integer (nullable = true)\n",
      " |-- salary: integer (nullable = true)\n",
      "\n"
     ]
    }
   ],
   "source": [
    "df_pyspark.printSchema()"
   ]
  },
  {
   "cell_type": "code",
   "execution_count": 8,
   "id": "328f6798",
   "metadata": {},
   "outputs": [],
   "source": [
    "training = df_pyspark"
   ]
  },
  {
   "cell_type": "code",
   "execution_count": 12,
   "id": "a1901d6d",
   "metadata": {},
   "outputs": [
    {
     "data": {
      "text/plain": [
       "['name', 'age', 'experience', 'salary']"
      ]
     },
     "execution_count": 12,
     "metadata": {},
     "output_type": "execute_result"
    }
   ],
   "source": [
    "training.columns"
   ]
  },
  {
   "cell_type": "code",
   "execution_count": 13,
   "id": "584cfb13",
   "metadata": {},
   "outputs": [],
   "source": [
    "#group training features together using vector assembler\n",
    "train_features = ['age', 'experience']  #independent feature"
   ]
  },
  {
   "cell_type": "code",
   "execution_count": 18,
   "id": "e7637c06",
   "metadata": {},
   "outputs": [],
   "source": [
    "#Group independent features\n",
    "from pyspark.ml.feature import VectorAssembler\n",
    "feature_assembler = VectorAssembler(inputCols= train_features, outputCol= \"Independent Features\")"
   ]
  },
  {
   "cell_type": "code",
   "execution_count": 15,
   "id": "0f9201cc",
   "metadata": {},
   "outputs": [],
   "source": [
    "output = feature_assembler.transform(training)"
   ]
  },
  {
   "cell_type": "code",
   "execution_count": 16,
   "id": "060ef388",
   "metadata": {},
   "outputs": [
    {
     "name": "stdout",
     "output_type": "stream",
     "text": [
      "+---------+---+----------+------+--------------------+\n",
      "|     name|age|experience|salary|Independent Features|\n",
      "+---------+---+----------+------+--------------------+\n",
      "|      Kin| 19|         6| 30000|          [19.0,6.0]|\n",
      "|     Sawa| 17|         5| 23000|          [17.0,5.0]|\n",
      "|     Toru| 22|         9| 40000|          [22.0,9.0]|\n",
      "|    Souta| 13|         3| 13000|          [13.0,3.0]|\n",
      "|    Kanna|  9|         2|  5000|           [9.0,2.0]|\n",
      "|Kobayahsi| 34|        30|400000|         [34.0,30.0]|\n",
      "+---------+---+----------+------+--------------------+\n",
      "\n"
     ]
    }
   ],
   "source": [
    "output.show()"
   ]
  },
  {
   "cell_type": "code",
   "execution_count": 20,
   "id": "04a985e4",
   "metadata": {},
   "outputs": [
    {
     "data": {
      "text/plain": [
       "['name', 'age', 'experience', 'salary', 'Independent Features']"
      ]
     },
     "execution_count": 20,
     "metadata": {},
     "output_type": "execute_result"
    }
   ],
   "source": [
    "output.columns"
   ]
  },
  {
   "cell_type": "code",
   "execution_count": 21,
   "id": "aee7452e",
   "metadata": {},
   "outputs": [
    {
     "name": "stdout",
     "output_type": "stream",
     "text": [
      "+--------------------+------+\n",
      "|Independent Features|salary|\n",
      "+--------------------+------+\n",
      "|          [19.0,6.0]| 30000|\n",
      "|          [17.0,5.0]| 23000|\n",
      "|          [22.0,9.0]| 40000|\n",
      "|          [13.0,3.0]| 13000|\n",
      "|           [9.0,2.0]|  5000|\n",
      "|         [34.0,30.0]|400000|\n",
      "+--------------------+------+\n",
      "\n"
     ]
    }
   ],
   "source": [
    "finalized_data = output.select(\"Independent Features\", \"salary\")\n",
    "finalized_data.show()"
   ]
  },
  {
   "cell_type": "code",
   "execution_count": 22,
   "id": "f0d4d219",
   "metadata": {},
   "outputs": [],
   "source": [
    "from pyspark.ml.regression import LinearRegression\n",
    "#train test split\n",
    "train_data, test_date = finalized_data.randomSplit([0.7, 0.3])\n",
    "#define features and labels\n",
    "regressor = LinearRegression(featuresCol='Independent Features', labelCol= 'salary')\n",
    "regressor = regressor.fit(train_data)"
   ]
  },
  {
   "cell_type": "code",
   "execution_count": 23,
   "id": "9cc6044f",
   "metadata": {},
   "outputs": [
    {
     "name": "stdout",
     "output_type": "stream",
     "text": [
      "[-7166.661459146961,20273.353121907996]\n",
      "33523.689006925444\n"
     ]
    }
   ],
   "source": [
    "print(regressor.coefficients)\n",
    "print(regressor.intercept)"
   ]
  },
  {
   "cell_type": "code",
   "execution_count": 26,
   "id": "72e811f4",
   "metadata": {},
   "outputs": [],
   "source": [
    "pred_res = regressor.evaluate(test_date)"
   ]
  },
  {
   "cell_type": "code",
   "execution_count": 27,
   "id": "9fb474e1",
   "metadata": {},
   "outputs": [
    {
     "name": "stdout",
     "output_type": "stream",
     "text": [
      "+--------------------+------+-----------------+\n",
      "|Independent Features|salary|       prediction|\n",
      "+--------------------+------+-----------------+\n",
      "|          [13.0,3.0]| 13000|1177.149403738942|\n",
      "+--------------------+------+-----------------+\n",
      "\n"
     ]
    }
   ],
   "source": [
    "pred_res.predictions.show()"
   ]
  },
  {
   "cell_type": "code",
   "execution_count": 28,
   "id": "0bee6e73",
   "metadata": {},
   "outputs": [
    {
     "data": {
      "text/plain": [
       "(11822.850596261058, 139779796.22151044)"
      ]
     },
     "execution_count": 28,
     "metadata": {},
     "output_type": "execute_result"
    }
   ],
   "source": [
    "pred_res.meanAbsoluteError, pred_res.meanSquaredError"
   ]
  }
 ],
 "metadata": {
  "kernelspec": {
   "display_name": "Python 3",
   "language": "python",
   "name": "python3"
  },
  "language_info": {
   "codemirror_mode": {
    "name": "ipython",
    "version": 3
   },
   "file_extension": ".py",
   "mimetype": "text/x-python",
   "name": "python",
   "nbconvert_exporter": "python",
   "pygments_lexer": "ipython3",
   "version": "3.7.7"
  }
 },
 "nbformat": 4,
 "nbformat_minor": 5
}
